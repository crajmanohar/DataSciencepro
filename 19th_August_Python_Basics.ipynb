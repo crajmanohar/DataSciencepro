{
 "cells": [
  {
   "cell_type": "code",
   "execution_count": 2,
   "id": "284339c1",
   "metadata": {},
   "outputs": [
    {
     "name": "stdout",
     "output_type": "stream",
     "text": [
      "A value after swap is : 20\n",
      "B value after swap is : 10\n"
     ]
    }
   ],
   "source": [
    "# Swap two Numbers\n",
    "a = 10\n",
    "b = 20\n",
    "a= a+b\n",
    "b = a-b\n",
    "a=  a-b\n",
    "print(\"A value after swap is :\",a)\n",
    "print(\"B value after swap is :\",b)"
   ]
  },
  {
   "cell_type": "code",
   "execution_count": 4,
   "id": "c093f7d3",
   "metadata": {},
   "outputs": [
    {
     "name": "stdout",
     "output_type": "stream",
     "text": [
      "please enter the length of the rectangle :2\n",
      "please enter the width of the rectangle :2\n",
      "Area of rectangle is : 4\n"
     ]
    }
   ],
   "source": [
    "# Calculating the area of rectangle\n",
    "\n",
    "length = int(input(\"please enter the length of the rectangle :\"))\n",
    "width = int(input(\"please enter the width of the rectangle :\"))\n",
    "\n",
    "area = length*width\n",
    "print(\"Area of rectangle is :\",area)"
   ]
  },
  {
   "cell_type": "code",
   "execution_count": 5,
   "id": "d4a6c0c9",
   "metadata": {},
   "outputs": [
    {
     "name": "stdout",
     "output_type": "stream",
     "text": [
      "please enter the temperature in Celsius:32\n",
      "The temperature in Fahrenheit :  89.6\n"
     ]
    }
   ],
   "source": [
    "#  Celsius to Fahrenheit.\n",
    "\n",
    "celsius = int(input(\"please enter the temperature in Celsius:\"))\n",
    "fahrenheit = ((celsius * 9)/5)+32\n",
    "print(\"The temperature in Fahrenheit : \", fahrenheit)"
   ]
  },
  {
   "cell_type": "code",
   "execution_count": 6,
   "id": "c204b561",
   "metadata": {},
   "outputs": [
    {
     "name": "stdout",
     "output_type": "stream",
     "text": [
      "Enter the string :qw\n",
      "length of the given string using built in function is : 2\n",
      "length of the given string with out  built in function is : 2\n"
     ]
    }
   ],
   "source": [
    "#  Length od string\n",
    "\n",
    "s = input(\"Enter the string :\")\n",
    " # with built in function\n",
    "print(\"length of the given string using built in function is :\" ,len(s))\n",
    "\n",
    "#without built in function\n",
    "count=0\n",
    "for i in s:\n",
    "    count= count+1\n",
    "print(\"length of the given string with out  built in function is :\" ,len(s))"
   ]
  },
  {
   "cell_type": "code",
   "execution_count": 7,
   "id": "ace901bb",
   "metadata": {},
   "outputs": [
    {
     "name": "stdout",
     "output_type": "stream",
     "text": [
      "enter the word which contailes vowels :qeiou\n",
      "e occured 1 times\n",
      "i occured 1 times\n",
      "o occured 1 times\n",
      "u occured 1 times\n"
     ]
    }
   ],
   "source": [
    "# number of vowels\n",
    "\n",
    "string = input(\"enter the word which contailes vowels :\")\n",
    "vowels = {'a','e','i','o','u'} \n",
    "d={}\n",
    "for v in string:\n",
    "    d[v]=d.get(v,0)+1\n",
    "\n",
    "for key,value in sorted(d.items()):\n",
    "    if key in vowels:\n",
    "      print(key,\"occured\",value,\"times\")\n",
    "    "
   ]
  },
  {
   "cell_type": "code",
   "execution_count": 8,
   "id": "937ffda7",
   "metadata": {},
   "outputs": [
    {
     "name": "stdout",
     "output_type": "stream",
     "text": [
      "String in reverse order nohtyp ot emocleW\n"
     ]
    }
   ],
   "source": [
    "# Reversing the string\n",
    "s2= \"Welcome to python\"\n",
    "print(\"String in reverse order\",s2[::-1])"
   ]
  },
  {
   "cell_type": "code",
   "execution_count": 9,
   "id": "4a41fd60",
   "metadata": {},
   "outputs": [
    {
     "name": "stdout",
     "output_type": "stream",
     "text": [
      "please enter a string to check palindrome :qw\n",
      "Given string is not palindrome\n"
     ]
    }
   ],
   "source": [
    "# palindrome\n",
    "\n",
    "palindrome = input(\"please enter a string to check palindrome :\")\n",
    "if palindrome == palindrome[::-1]:\n",
    "    print(\"Given string is palindrome\")\n",
    "else:\n",
    "    print(\"Given string is not palindrome\")"
   ]
  },
  {
   "cell_type": "code",
   "execution_count": 10,
   "id": "725a415a",
   "metadata": {},
   "outputs": [
    {
     "name": "stdout",
     "output_type": "stream",
     "text": [
      "Enter the string which contain some extra spaces:   1.      1.  \n",
      "After removing the extra spaces : 1.      1.\n"
     ]
    }
   ],
   "source": [
    "############# REMOVING THE EXTRA SPACES #############\n",
    "s3 = input(\"Enter the string which contain some extra spaces:\")\n",
    "print(\"After removing the extra spaces :\",s3.strip())"
   ]
  },
  {
   "cell_type": "code",
   "execution_count": null,
   "id": "0cbba4e8",
   "metadata": {},
   "outputs": [],
   "source": []
  }
 ],
 "metadata": {
  "kernelspec": {
   "display_name": "Python 3 (ipykernel)",
   "language": "python",
   "name": "python3"
  },
  "language_info": {
   "codemirror_mode": {
    "name": "ipython",
    "version": 3
   },
   "file_extension": ".py",
   "mimetype": "text/x-python",
   "name": "python",
   "nbconvert_exporter": "python",
   "pygments_lexer": "ipython3",
   "version": "3.11.4"
  }
 },
 "nbformat": 4,
 "nbformat_minor": 5
}
